{
 "cells": [
  {
   "cell_type": "markdown",
   "metadata": {},
   "source": [
    "Open in google colab: https://colab.research.google.com/github/ptsgrn/ScotlandYard-py/blob/master/colab.ipynb"
   ]
  },
  {
   "cell_type": "code",
   "execution_count": null,
   "metadata": {},
   "outputs": [],
   "source": [
    "!git clone https://github.com/ptsgrn/ScotlandYard-py /content/scotlanyard"
   ]
  },
  {
   "cell_type": "code",
   "execution_count": null,
   "metadata": {},
   "outputs": [],
   "source": [
    "%cd scotlanyard\n",
    "%pip install -r -q requirements.txt /content/scotlanyard"
   ]
  },
  {
   "cell_type": "code",
   "execution_count": null,
   "metadata": {},
   "outputs": [],
   "source": [
    "!python scotlandyard.py 12 taxi"
   ]
  }
 ],
 "metadata": {
  "kernelspec": {
   "display_name": "scotlandyard",
   "language": "python",
   "name": "python3"
  },
  "language_info": {
   "name": "python",
   "version": "3.8.10"
  }
 },
 "nbformat": 4,
 "nbformat_minor": 2
}
